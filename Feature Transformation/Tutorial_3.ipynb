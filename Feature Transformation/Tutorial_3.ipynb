{
  "nbformat": 4,
  "nbformat_minor": 0,
  "metadata": {
    "colab": {
      "provenance": []
    },
    "kernelspec": {
      "name": "python3",
      "display_name": "Python 3"
    },
    "language_info": {
      "name": "python"
    }
  },
  "cells": [
    {
      "cell_type": "markdown",
      "source": [
        "# Tutorial on Feature Selection/Transormation and Decision Trees\n",
        "\n",
        "Feature Selection is the process of identifying and selecting a subset of relevant features from your dataset. This helps improve model performance by:\n",
        "- Reducing complexity and overfitting.\n",
        "- Focusing on informative features.\n",
        "- Enhancing interpretability."
      ],
      "metadata": {
        "id": "4RvKW-mOlAbo"
      }
    },
    {
      "cell_type": "code",
      "execution_count": null,
      "metadata": {
        "id": "0n4QcLCcthTa"
      },
      "outputs": [],
      "source": [
        "import warnings\n",
        "warnings.filterwarnings('ignore')\n",
        "import pandas as pd\n",
        "from sklearn.decomposition import PCA\n",
        "from sklearn.datasets import load_diabetes, load_iris\n",
        "from sklearn.ensemble import RandomForestClassifier\n",
        "from sklearn.model_selection import train_test_split\n",
        "from sklearn.feature_selection import SelectKBest, chi2, f_classif"
      ]
    },
    {
      "cell_type": "markdown",
      "source": [
        "## Setup and Data Loading\n",
        "First, let's load the necessary libraries and two datasets."
      ],
      "metadata": {
        "id": "Q2JOSEPHkKpa"
      }
    },
    {
      "cell_type": "code",
      "source": [
        "# Toy dataset: Iris\n",
        "iris = load_iris()\n",
        "X_iris  = pd.DataFrame(iris.data, columns=iris.feature_names)\n",
        "y_iris = iris.target\n",
        "\n",
        "X_iris_train, X_iris_test, y_iris_train, y_iris_test = train_test_split(X_iris, y_iris, test_size=0.3, random_state=12)\n",
        "\n",
        "df_ = pd.DataFrame(X_iris, columns=iris.feature_names)\n",
        "df_.head()"
      ],
      "metadata": {
        "colab": {
          "base_uri": "https://localhost:8080/",
          "height": 206
        },
        "id": "1baUAh4f3umy",
        "outputId": "21b8f3b3-5962-4120-b70f-8efe82943a48"
      },
      "execution_count": null,
      "outputs": [
        {
          "output_type": "execute_result",
          "data": {
            "text/plain": [
              "   sepal length (cm)  sepal width (cm)  petal length (cm)  petal width (cm)\n",
              "0                5.1               3.5                1.4               0.2\n",
              "1                4.9               3.0                1.4               0.2\n",
              "2                4.7               3.2                1.3               0.2\n",
              "3                4.6               3.1                1.5               0.2\n",
              "4                5.0               3.6                1.4               0.2"
            ],
            "text/html": [
              "\n",
              "  <div id=\"df-26efe18f-1ee8-4788-9020-7311c7c7709a\" class=\"colab-df-container\">\n",
              "    <div>\n",
              "<style scoped>\n",
              "    .dataframe tbody tr th:only-of-type {\n",
              "        vertical-align: middle;\n",
              "    }\n",
              "\n",
              "    .dataframe tbody tr th {\n",
              "        vertical-align: top;\n",
              "    }\n",
              "\n",
              "    .dataframe thead th {\n",
              "        text-align: right;\n",
              "    }\n",
              "</style>\n",
              "<table border=\"1\" class=\"dataframe\">\n",
              "  <thead>\n",
              "    <tr style=\"text-align: right;\">\n",
              "      <th></th>\n",
              "      <th>sepal length (cm)</th>\n",
              "      <th>sepal width (cm)</th>\n",
              "      <th>petal length (cm)</th>\n",
              "      <th>petal width (cm)</th>\n",
              "    </tr>\n",
              "  </thead>\n",
              "  <tbody>\n",
              "    <tr>\n",
              "      <th>0</th>\n",
              "      <td>5.1</td>\n",
              "      <td>3.5</td>\n",
              "      <td>1.4</td>\n",
              "      <td>0.2</td>\n",
              "    </tr>\n",
              "    <tr>\n",
              "      <th>1</th>\n",
              "      <td>4.9</td>\n",
              "      <td>3.0</td>\n",
              "      <td>1.4</td>\n",
              "      <td>0.2</td>\n",
              "    </tr>\n",
              "    <tr>\n",
              "      <th>2</th>\n",
              "      <td>4.7</td>\n",
              "      <td>3.2</td>\n",
              "      <td>1.3</td>\n",
              "      <td>0.2</td>\n",
              "    </tr>\n",
              "    <tr>\n",
              "      <th>3</th>\n",
              "      <td>4.6</td>\n",
              "      <td>3.1</td>\n",
              "      <td>1.5</td>\n",
              "      <td>0.2</td>\n",
              "    </tr>\n",
              "    <tr>\n",
              "      <th>4</th>\n",
              "      <td>5.0</td>\n",
              "      <td>3.6</td>\n",
              "      <td>1.4</td>\n",
              "      <td>0.2</td>\n",
              "    </tr>\n",
              "  </tbody>\n",
              "</table>\n",
              "</div>\n",
              "    <div class=\"colab-df-buttons\">\n",
              "\n",
              "  <div class=\"colab-df-container\">\n",
              "    <button class=\"colab-df-convert\" onclick=\"convertToInteractive('df-26efe18f-1ee8-4788-9020-7311c7c7709a')\"\n",
              "            title=\"Convert this dataframe to an interactive table.\"\n",
              "            style=\"display:none;\">\n",
              "\n",
              "  <svg xmlns=\"http://www.w3.org/2000/svg\" height=\"24px\" viewBox=\"0 -960 960 960\">\n",
              "    <path d=\"M120-120v-720h720v720H120Zm60-500h600v-160H180v160Zm220 220h160v-160H400v160Zm0 220h160v-160H400v160ZM180-400h160v-160H180v160Zm440 0h160v-160H620v160ZM180-180h160v-160H180v160Zm440 0h160v-160H620v160Z\"/>\n",
              "  </svg>\n",
              "    </button>\n",
              "\n",
              "  <style>\n",
              "    .colab-df-container {\n",
              "      display:flex;\n",
              "      gap: 12px;\n",
              "    }\n",
              "\n",
              "    .colab-df-convert {\n",
              "      background-color: #E8F0FE;\n",
              "      border: none;\n",
              "      border-radius: 50%;\n",
              "      cursor: pointer;\n",
              "      display: none;\n",
              "      fill: #1967D2;\n",
              "      height: 32px;\n",
              "      padding: 0 0 0 0;\n",
              "      width: 32px;\n",
              "    }\n",
              "\n",
              "    .colab-df-convert:hover {\n",
              "      background-color: #E2EBFA;\n",
              "      box-shadow: 0px 1px 2px rgba(60, 64, 67, 0.3), 0px 1px 3px 1px rgba(60, 64, 67, 0.15);\n",
              "      fill: #174EA6;\n",
              "    }\n",
              "\n",
              "    .colab-df-buttons div {\n",
              "      margin-bottom: 4px;\n",
              "    }\n",
              "\n",
              "    [theme=dark] .colab-df-convert {\n",
              "      background-color: #3B4455;\n",
              "      fill: #D2E3FC;\n",
              "    }\n",
              "\n",
              "    [theme=dark] .colab-df-convert:hover {\n",
              "      background-color: #434B5C;\n",
              "      box-shadow: 0px 1px 3px 1px rgba(0, 0, 0, 0.15);\n",
              "      filter: drop-shadow(0px 1px 2px rgba(0, 0, 0, 0.3));\n",
              "      fill: #FFFFFF;\n",
              "    }\n",
              "  </style>\n",
              "\n",
              "    <script>\n",
              "      const buttonEl =\n",
              "        document.querySelector('#df-26efe18f-1ee8-4788-9020-7311c7c7709a button.colab-df-convert');\n",
              "      buttonEl.style.display =\n",
              "        google.colab.kernel.accessAllowed ? 'block' : 'none';\n",
              "\n",
              "      async function convertToInteractive(key) {\n",
              "        const element = document.querySelector('#df-26efe18f-1ee8-4788-9020-7311c7c7709a');\n",
              "        const dataTable =\n",
              "          await google.colab.kernel.invokeFunction('convertToInteractive',\n",
              "                                                    [key], {});\n",
              "        if (!dataTable) return;\n",
              "\n",
              "        const docLinkHtml = 'Like what you see? Visit the ' +\n",
              "          '<a target=\"_blank\" href=https://colab.research.google.com/notebooks/data_table.ipynb>data table notebook</a>'\n",
              "          + ' to learn more about interactive tables.';\n",
              "        element.innerHTML = '';\n",
              "        dataTable['output_type'] = 'display_data';\n",
              "        await google.colab.output.renderOutput(dataTable, element);\n",
              "        const docLink = document.createElement('div');\n",
              "        docLink.innerHTML = docLinkHtml;\n",
              "        element.appendChild(docLink);\n",
              "      }\n",
              "    </script>\n",
              "  </div>\n",
              "\n",
              "\n",
              "<div id=\"df-493ab397-f7d8-4f5d-8b15-aa397885a8af\">\n",
              "  <button class=\"colab-df-quickchart\" onclick=\"quickchart('df-493ab397-f7d8-4f5d-8b15-aa397885a8af')\"\n",
              "            title=\"Suggest charts\"\n",
              "            style=\"display:none;\">\n",
              "\n",
              "<svg xmlns=\"http://www.w3.org/2000/svg\" height=\"24px\"viewBox=\"0 0 24 24\"\n",
              "     width=\"24px\">\n",
              "    <g>\n",
              "        <path d=\"M19 3H5c-1.1 0-2 .9-2 2v14c0 1.1.9 2 2 2h14c1.1 0 2-.9 2-2V5c0-1.1-.9-2-2-2zM9 17H7v-7h2v7zm4 0h-2V7h2v10zm4 0h-2v-4h2v4z\"/>\n",
              "    </g>\n",
              "</svg>\n",
              "  </button>\n",
              "\n",
              "<style>\n",
              "  .colab-df-quickchart {\n",
              "      --bg-color: #E8F0FE;\n",
              "      --fill-color: #1967D2;\n",
              "      --hover-bg-color: #E2EBFA;\n",
              "      --hover-fill-color: #174EA6;\n",
              "      --disabled-fill-color: #AAA;\n",
              "      --disabled-bg-color: #DDD;\n",
              "  }\n",
              "\n",
              "  [theme=dark] .colab-df-quickchart {\n",
              "      --bg-color: #3B4455;\n",
              "      --fill-color: #D2E3FC;\n",
              "      --hover-bg-color: #434B5C;\n",
              "      --hover-fill-color: #FFFFFF;\n",
              "      --disabled-bg-color: #3B4455;\n",
              "      --disabled-fill-color: #666;\n",
              "  }\n",
              "\n",
              "  .colab-df-quickchart {\n",
              "    background-color: var(--bg-color);\n",
              "    border: none;\n",
              "    border-radius: 50%;\n",
              "    cursor: pointer;\n",
              "    display: none;\n",
              "    fill: var(--fill-color);\n",
              "    height: 32px;\n",
              "    padding: 0;\n",
              "    width: 32px;\n",
              "  }\n",
              "\n",
              "  .colab-df-quickchart:hover {\n",
              "    background-color: var(--hover-bg-color);\n",
              "    box-shadow: 0 1px 2px rgba(60, 64, 67, 0.3), 0 1px 3px 1px rgba(60, 64, 67, 0.15);\n",
              "    fill: var(--button-hover-fill-color);\n",
              "  }\n",
              "\n",
              "  .colab-df-quickchart-complete:disabled,\n",
              "  .colab-df-quickchart-complete:disabled:hover {\n",
              "    background-color: var(--disabled-bg-color);\n",
              "    fill: var(--disabled-fill-color);\n",
              "    box-shadow: none;\n",
              "  }\n",
              "\n",
              "  .colab-df-spinner {\n",
              "    border: 2px solid var(--fill-color);\n",
              "    border-color: transparent;\n",
              "    border-bottom-color: var(--fill-color);\n",
              "    animation:\n",
              "      spin 1s steps(1) infinite;\n",
              "  }\n",
              "\n",
              "  @keyframes spin {\n",
              "    0% {\n",
              "      border-color: transparent;\n",
              "      border-bottom-color: var(--fill-color);\n",
              "      border-left-color: var(--fill-color);\n",
              "    }\n",
              "    20% {\n",
              "      border-color: transparent;\n",
              "      border-left-color: var(--fill-color);\n",
              "      border-top-color: var(--fill-color);\n",
              "    }\n",
              "    30% {\n",
              "      border-color: transparent;\n",
              "      border-left-color: var(--fill-color);\n",
              "      border-top-color: var(--fill-color);\n",
              "      border-right-color: var(--fill-color);\n",
              "    }\n",
              "    40% {\n",
              "      border-color: transparent;\n",
              "      border-right-color: var(--fill-color);\n",
              "      border-top-color: var(--fill-color);\n",
              "    }\n",
              "    60% {\n",
              "      border-color: transparent;\n",
              "      border-right-color: var(--fill-color);\n",
              "    }\n",
              "    80% {\n",
              "      border-color: transparent;\n",
              "      border-right-color: var(--fill-color);\n",
              "      border-bottom-color: var(--fill-color);\n",
              "    }\n",
              "    90% {\n",
              "      border-color: transparent;\n",
              "      border-bottom-color: var(--fill-color);\n",
              "    }\n",
              "  }\n",
              "</style>\n",
              "\n",
              "  <script>\n",
              "    async function quickchart(key) {\n",
              "      const quickchartButtonEl =\n",
              "        document.querySelector('#' + key + ' button');\n",
              "      quickchartButtonEl.disabled = true;  // To prevent multiple clicks.\n",
              "      quickchartButtonEl.classList.add('colab-df-spinner');\n",
              "      try {\n",
              "        const charts = await google.colab.kernel.invokeFunction(\n",
              "            'suggestCharts', [key], {});\n",
              "      } catch (error) {\n",
              "        console.error('Error during call to suggestCharts:', error);\n",
              "      }\n",
              "      quickchartButtonEl.classList.remove('colab-df-spinner');\n",
              "      quickchartButtonEl.classList.add('colab-df-quickchart-complete');\n",
              "    }\n",
              "    (() => {\n",
              "      let quickchartButtonEl =\n",
              "        document.querySelector('#df-493ab397-f7d8-4f5d-8b15-aa397885a8af button');\n",
              "      quickchartButtonEl.style.display =\n",
              "        google.colab.kernel.accessAllowed ? 'block' : 'none';\n",
              "    })();\n",
              "  </script>\n",
              "</div>\n",
              "    </div>\n",
              "  </div>\n"
            ],
            "application/vnd.google.colaboratory.intrinsic+json": {
              "type": "dataframe",
              "variable_name": "df_",
              "summary": "{\n  \"name\": \"df_\",\n  \"rows\": 150,\n  \"fields\": [\n    {\n      \"column\": \"sepal length (cm)\",\n      \"properties\": {\n        \"dtype\": \"number\",\n        \"std\": 0.828066127977863,\n        \"min\": 4.3,\n        \"max\": 7.9,\n        \"num_unique_values\": 35,\n        \"samples\": [\n          6.2,\n          4.5,\n          5.6\n        ],\n        \"semantic_type\": \"\",\n        \"description\": \"\"\n      }\n    },\n    {\n      \"column\": \"sepal width (cm)\",\n      \"properties\": {\n        \"dtype\": \"number\",\n        \"std\": 0.4358662849366982,\n        \"min\": 2.0,\n        \"max\": 4.4,\n        \"num_unique_values\": 23,\n        \"samples\": [\n          2.3,\n          4.0,\n          3.5\n        ],\n        \"semantic_type\": \"\",\n        \"description\": \"\"\n      }\n    },\n    {\n      \"column\": \"petal length (cm)\",\n      \"properties\": {\n        \"dtype\": \"number\",\n        \"std\": 1.7652982332594662,\n        \"min\": 1.0,\n        \"max\": 6.9,\n        \"num_unique_values\": 43,\n        \"samples\": [\n          6.7,\n          3.8,\n          3.7\n        ],\n        \"semantic_type\": \"\",\n        \"description\": \"\"\n      }\n    },\n    {\n      \"column\": \"petal width (cm)\",\n      \"properties\": {\n        \"dtype\": \"number\",\n        \"std\": 0.7622376689603465,\n        \"min\": 0.1,\n        \"max\": 2.5,\n        \"num_unique_values\": 22,\n        \"samples\": [\n          0.2,\n          1.2,\n          1.3\n        ],\n        \"semantic_type\": \"\",\n        \"description\": \"\"\n      }\n    }\n  ]\n}"
            }
          },
          "metadata": {},
          "execution_count": 2
        }
      ]
    },
    {
      "cell_type": "code",
      "source": [
        "# Main dataset: Diabetes\n",
        "db = load_diabetes()\n",
        "X = pd.DataFrame(db.data, columns=db.feature_names)\n",
        "y = db.target\n",
        "\n",
        "\n",
        "# Splitting dataset into training and testing set\n",
        "X_train, X_test, y_train, y_test = train_test_split(X, y, test_size=0.2, random_state=42)\n",
        "\n",
        "print(f\"Dataset features: {X.keys()}\")\n",
        "print(f\"Number of features: {len(X.columns)}\")\n",
        "print(f\"Target values: {y_train[:5]}\")\n",
        "X_train.head(5)"
      ],
      "metadata": {
        "colab": {
          "base_uri": "https://localhost:8080/",
          "height": 260
        },
        "id": "rZfQQZwCAKxu",
        "outputId": "71e79ae4-999b-4a82-e696-249e5fa2d3b3"
      },
      "execution_count": null,
      "outputs": [
        {
          "output_type": "stream",
          "name": "stdout",
          "text": [
            "Dataset features: Index(['age', 'sex', 'bmi', 'bp', 's1', 's2', 's3', 's4', 's5', 's6'], dtype='object')\n",
            "Number of features: 10\n",
            "Target values: [144. 150. 280. 125.  59.]\n"
          ]
        },
        {
          "output_type": "execute_result",
          "data": {
            "text/plain": [
              "          age       sex       bmi        bp        s1        s2        s3  \\\n",
              "17   0.070769  0.050680  0.012117  0.056301  0.034206  0.049416 -0.039719   \n",
              "66  -0.009147  0.050680 -0.018062 -0.033213 -0.020832  0.012152 -0.072854   \n",
              "137  0.005383 -0.044642  0.049840  0.097615 -0.015328 -0.016345 -0.006584   \n",
              "245 -0.027310 -0.044642 -0.035307 -0.029770 -0.056607 -0.058620  0.030232   \n",
              "31  -0.023677 -0.044642 -0.065486 -0.081413 -0.038720 -0.053610  0.059685   \n",
              "\n",
              "           s4        s5        s6  \n",
              "17   0.034309  0.027364 -0.001078  \n",
              "66   0.071210  0.000272  0.019633  \n",
              "137 -0.002592  0.017036 -0.013504  \n",
              "245 -0.039493 -0.049872 -0.129483  \n",
              "31  -0.076395 -0.037129 -0.042499  "
            ],
            "text/html": [
              "\n",
              "  <div id=\"df-e5298e87-e998-4af2-8c5f-93c464acf2e4\" class=\"colab-df-container\">\n",
              "    <div>\n",
              "<style scoped>\n",
              "    .dataframe tbody tr th:only-of-type {\n",
              "        vertical-align: middle;\n",
              "    }\n",
              "\n",
              "    .dataframe tbody tr th {\n",
              "        vertical-align: top;\n",
              "    }\n",
              "\n",
              "    .dataframe thead th {\n",
              "        text-align: right;\n",
              "    }\n",
              "</style>\n",
              "<table border=\"1\" class=\"dataframe\">\n",
              "  <thead>\n",
              "    <tr style=\"text-align: right;\">\n",
              "      <th></th>\n",
              "      <th>age</th>\n",
              "      <th>sex</th>\n",
              "      <th>bmi</th>\n",
              "      <th>bp</th>\n",
              "      <th>s1</th>\n",
              "      <th>s2</th>\n",
              "      <th>s3</th>\n",
              "      <th>s4</th>\n",
              "      <th>s5</th>\n",
              "      <th>s6</th>\n",
              "    </tr>\n",
              "  </thead>\n",
              "  <tbody>\n",
              "    <tr>\n",
              "      <th>17</th>\n",
              "      <td>0.070769</td>\n",
              "      <td>0.050680</td>\n",
              "      <td>0.012117</td>\n",
              "      <td>0.056301</td>\n",
              "      <td>0.034206</td>\n",
              "      <td>0.049416</td>\n",
              "      <td>-0.039719</td>\n",
              "      <td>0.034309</td>\n",
              "      <td>0.027364</td>\n",
              "      <td>-0.001078</td>\n",
              "    </tr>\n",
              "    <tr>\n",
              "      <th>66</th>\n",
              "      <td>-0.009147</td>\n",
              "      <td>0.050680</td>\n",
              "      <td>-0.018062</td>\n",
              "      <td>-0.033213</td>\n",
              "      <td>-0.020832</td>\n",
              "      <td>0.012152</td>\n",
              "      <td>-0.072854</td>\n",
              "      <td>0.071210</td>\n",
              "      <td>0.000272</td>\n",
              "      <td>0.019633</td>\n",
              "    </tr>\n",
              "    <tr>\n",
              "      <th>137</th>\n",
              "      <td>0.005383</td>\n",
              "      <td>-0.044642</td>\n",
              "      <td>0.049840</td>\n",
              "      <td>0.097615</td>\n",
              "      <td>-0.015328</td>\n",
              "      <td>-0.016345</td>\n",
              "      <td>-0.006584</td>\n",
              "      <td>-0.002592</td>\n",
              "      <td>0.017036</td>\n",
              "      <td>-0.013504</td>\n",
              "    </tr>\n",
              "    <tr>\n",
              "      <th>245</th>\n",
              "      <td>-0.027310</td>\n",
              "      <td>-0.044642</td>\n",
              "      <td>-0.035307</td>\n",
              "      <td>-0.029770</td>\n",
              "      <td>-0.056607</td>\n",
              "      <td>-0.058620</td>\n",
              "      <td>0.030232</td>\n",
              "      <td>-0.039493</td>\n",
              "      <td>-0.049872</td>\n",
              "      <td>-0.129483</td>\n",
              "    </tr>\n",
              "    <tr>\n",
              "      <th>31</th>\n",
              "      <td>-0.023677</td>\n",
              "      <td>-0.044642</td>\n",
              "      <td>-0.065486</td>\n",
              "      <td>-0.081413</td>\n",
              "      <td>-0.038720</td>\n",
              "      <td>-0.053610</td>\n",
              "      <td>0.059685</td>\n",
              "      <td>-0.076395</td>\n",
              "      <td>-0.037129</td>\n",
              "      <td>-0.042499</td>\n",
              "    </tr>\n",
              "  </tbody>\n",
              "</table>\n",
              "</div>\n",
              "    <div class=\"colab-df-buttons\">\n",
              "\n",
              "  <div class=\"colab-df-container\">\n",
              "    <button class=\"colab-df-convert\" onclick=\"convertToInteractive('df-e5298e87-e998-4af2-8c5f-93c464acf2e4')\"\n",
              "            title=\"Convert this dataframe to an interactive table.\"\n",
              "            style=\"display:none;\">\n",
              "\n",
              "  <svg xmlns=\"http://www.w3.org/2000/svg\" height=\"24px\" viewBox=\"0 -960 960 960\">\n",
              "    <path d=\"M120-120v-720h720v720H120Zm60-500h600v-160H180v160Zm220 220h160v-160H400v160Zm0 220h160v-160H400v160ZM180-400h160v-160H180v160Zm440 0h160v-160H620v160ZM180-180h160v-160H180v160Zm440 0h160v-160H620v160Z\"/>\n",
              "  </svg>\n",
              "    </button>\n",
              "\n",
              "  <style>\n",
              "    .colab-df-container {\n",
              "      display:flex;\n",
              "      gap: 12px;\n",
              "    }\n",
              "\n",
              "    .colab-df-convert {\n",
              "      background-color: #E8F0FE;\n",
              "      border: none;\n",
              "      border-radius: 50%;\n",
              "      cursor: pointer;\n",
              "      display: none;\n",
              "      fill: #1967D2;\n",
              "      height: 32px;\n",
              "      padding: 0 0 0 0;\n",
              "      width: 32px;\n",
              "    }\n",
              "\n",
              "    .colab-df-convert:hover {\n",
              "      background-color: #E2EBFA;\n",
              "      box-shadow: 0px 1px 2px rgba(60, 64, 67, 0.3), 0px 1px 3px 1px rgba(60, 64, 67, 0.15);\n",
              "      fill: #174EA6;\n",
              "    }\n",
              "\n",
              "    .colab-df-buttons div {\n",
              "      margin-bottom: 4px;\n",
              "    }\n",
              "\n",
              "    [theme=dark] .colab-df-convert {\n",
              "      background-color: #3B4455;\n",
              "      fill: #D2E3FC;\n",
              "    }\n",
              "\n",
              "    [theme=dark] .colab-df-convert:hover {\n",
              "      background-color: #434B5C;\n",
              "      box-shadow: 0px 1px 3px 1px rgba(0, 0, 0, 0.15);\n",
              "      filter: drop-shadow(0px 1px 2px rgba(0, 0, 0, 0.3));\n",
              "      fill: #FFFFFF;\n",
              "    }\n",
              "  </style>\n",
              "\n",
              "    <script>\n",
              "      const buttonEl =\n",
              "        document.querySelector('#df-e5298e87-e998-4af2-8c5f-93c464acf2e4 button.colab-df-convert');\n",
              "      buttonEl.style.display =\n",
              "        google.colab.kernel.accessAllowed ? 'block' : 'none';\n",
              "\n",
              "      async function convertToInteractive(key) {\n",
              "        const element = document.querySelector('#df-e5298e87-e998-4af2-8c5f-93c464acf2e4');\n",
              "        const dataTable =\n",
              "          await google.colab.kernel.invokeFunction('convertToInteractive',\n",
              "                                                    [key], {});\n",
              "        if (!dataTable) return;\n",
              "\n",
              "        const docLinkHtml = 'Like what you see? Visit the ' +\n",
              "          '<a target=\"_blank\" href=https://colab.research.google.com/notebooks/data_table.ipynb>data table notebook</a>'\n",
              "          + ' to learn more about interactive tables.';\n",
              "        element.innerHTML = '';\n",
              "        dataTable['output_type'] = 'display_data';\n",
              "        await google.colab.output.renderOutput(dataTable, element);\n",
              "        const docLink = document.createElement('div');\n",
              "        docLink.innerHTML = docLinkHtml;\n",
              "        element.appendChild(docLink);\n",
              "      }\n",
              "    </script>\n",
              "  </div>\n",
              "\n",
              "\n",
              "<div id=\"df-d55924df-b424-45a3-a730-9a8026897feb\">\n",
              "  <button class=\"colab-df-quickchart\" onclick=\"quickchart('df-d55924df-b424-45a3-a730-9a8026897feb')\"\n",
              "            title=\"Suggest charts\"\n",
              "            style=\"display:none;\">\n",
              "\n",
              "<svg xmlns=\"http://www.w3.org/2000/svg\" height=\"24px\"viewBox=\"0 0 24 24\"\n",
              "     width=\"24px\">\n",
              "    <g>\n",
              "        <path d=\"M19 3H5c-1.1 0-2 .9-2 2v14c0 1.1.9 2 2 2h14c1.1 0 2-.9 2-2V5c0-1.1-.9-2-2-2zM9 17H7v-7h2v7zm4 0h-2V7h2v10zm4 0h-2v-4h2v4z\"/>\n",
              "    </g>\n",
              "</svg>\n",
              "  </button>\n",
              "\n",
              "<style>\n",
              "  .colab-df-quickchart {\n",
              "      --bg-color: #E8F0FE;\n",
              "      --fill-color: #1967D2;\n",
              "      --hover-bg-color: #E2EBFA;\n",
              "      --hover-fill-color: #174EA6;\n",
              "      --disabled-fill-color: #AAA;\n",
              "      --disabled-bg-color: #DDD;\n",
              "  }\n",
              "\n",
              "  [theme=dark] .colab-df-quickchart {\n",
              "      --bg-color: #3B4455;\n",
              "      --fill-color: #D2E3FC;\n",
              "      --hover-bg-color: #434B5C;\n",
              "      --hover-fill-color: #FFFFFF;\n",
              "      --disabled-bg-color: #3B4455;\n",
              "      --disabled-fill-color: #666;\n",
              "  }\n",
              "\n",
              "  .colab-df-quickchart {\n",
              "    background-color: var(--bg-color);\n",
              "    border: none;\n",
              "    border-radius: 50%;\n",
              "    cursor: pointer;\n",
              "    display: none;\n",
              "    fill: var(--fill-color);\n",
              "    height: 32px;\n",
              "    padding: 0;\n",
              "    width: 32px;\n",
              "  }\n",
              "\n",
              "  .colab-df-quickchart:hover {\n",
              "    background-color: var(--hover-bg-color);\n",
              "    box-shadow: 0 1px 2px rgba(60, 64, 67, 0.3), 0 1px 3px 1px rgba(60, 64, 67, 0.15);\n",
              "    fill: var(--button-hover-fill-color);\n",
              "  }\n",
              "\n",
              "  .colab-df-quickchart-complete:disabled,\n",
              "  .colab-df-quickchart-complete:disabled:hover {\n",
              "    background-color: var(--disabled-bg-color);\n",
              "    fill: var(--disabled-fill-color);\n",
              "    box-shadow: none;\n",
              "  }\n",
              "\n",
              "  .colab-df-spinner {\n",
              "    border: 2px solid var(--fill-color);\n",
              "    border-color: transparent;\n",
              "    border-bottom-color: var(--fill-color);\n",
              "    animation:\n",
              "      spin 1s steps(1) infinite;\n",
              "  }\n",
              "\n",
              "  @keyframes spin {\n",
              "    0% {\n",
              "      border-color: transparent;\n",
              "      border-bottom-color: var(--fill-color);\n",
              "      border-left-color: var(--fill-color);\n",
              "    }\n",
              "    20% {\n",
              "      border-color: transparent;\n",
              "      border-left-color: var(--fill-color);\n",
              "      border-top-color: var(--fill-color);\n",
              "    }\n",
              "    30% {\n",
              "      border-color: transparent;\n",
              "      border-left-color: var(--fill-color);\n",
              "      border-top-color: var(--fill-color);\n",
              "      border-right-color: var(--fill-color);\n",
              "    }\n",
              "    40% {\n",
              "      border-color: transparent;\n",
              "      border-right-color: var(--fill-color);\n",
              "      border-top-color: var(--fill-color);\n",
              "    }\n",
              "    60% {\n",
              "      border-color: transparent;\n",
              "      border-right-color: var(--fill-color);\n",
              "    }\n",
              "    80% {\n",
              "      border-color: transparent;\n",
              "      border-right-color: var(--fill-color);\n",
              "      border-bottom-color: var(--fill-color);\n",
              "    }\n",
              "    90% {\n",
              "      border-color: transparent;\n",
              "      border-bottom-color: var(--fill-color);\n",
              "    }\n",
              "  }\n",
              "</style>\n",
              "\n",
              "  <script>\n",
              "    async function quickchart(key) {\n",
              "      const quickchartButtonEl =\n",
              "        document.querySelector('#' + key + ' button');\n",
              "      quickchartButtonEl.disabled = true;  // To prevent multiple clicks.\n",
              "      quickchartButtonEl.classList.add('colab-df-spinner');\n",
              "      try {\n",
              "        const charts = await google.colab.kernel.invokeFunction(\n",
              "            'suggestCharts', [key], {});\n",
              "      } catch (error) {\n",
              "        console.error('Error during call to suggestCharts:', error);\n",
              "      }\n",
              "      quickchartButtonEl.classList.remove('colab-df-spinner');\n",
              "      quickchartButtonEl.classList.add('colab-df-quickchart-complete');\n",
              "    }\n",
              "    (() => {\n",
              "      let quickchartButtonEl =\n",
              "        document.querySelector('#df-d55924df-b424-45a3-a730-9a8026897feb button');\n",
              "      quickchartButtonEl.style.display =\n",
              "        google.colab.kernel.accessAllowed ? 'block' : 'none';\n",
              "    })();\n",
              "  </script>\n",
              "</div>\n",
              "    </div>\n",
              "  </div>\n"
            ],
            "application/vnd.google.colaboratory.intrinsic+json": {
              "type": "dataframe",
              "variable_name": "X_train",
              "summary": "{\n  \"name\": \"X_train\",\n  \"rows\": 353,\n  \"fields\": [\n    {\n      \"column\": \"age\",\n      \"properties\": {\n        \"dtype\": \"number\",\n        \"std\": 0.04633406420048097,\n        \"min\": -0.1072256316073538,\n        \"max\": 0.11072667545381144,\n        \"num_unique_values\": 56,\n        \"samples\": [\n          0.0707687524925978,\n          0.001750521923228816,\n          -0.04183993948900423\n        ],\n        \"semantic_type\": \"\",\n        \"description\": \"\"\n      }\n    },\n    {\n      \"column\": \"sex\",\n      \"properties\": {\n        \"dtype\": \"number\",\n        \"std\": 0.047643997552882095,\n        \"min\": -0.044641636506989144,\n        \"max\": 0.05068011873981862,\n        \"num_unique_values\": 2,\n        \"samples\": [\n          -0.044641636506989144,\n          0.05068011873981862\n        ],\n        \"semantic_type\": \"\",\n        \"description\": \"\"\n      }\n    },\n    {\n      \"column\": \"bmi\",\n      \"properties\": {\n        \"dtype\": \"number\",\n        \"std\": 0.04727527623016162,\n        \"min\": -0.08919748382462865,\n        \"max\": 0.16085491731571683,\n        \"num_unique_values\": 153,\n        \"samples\": [\n          -0.02452875939178067,\n          -0.08165279930746305\n        ],\n        \"semantic_type\": \"\",\n        \"description\": \"\"\n      }\n    },\n    {\n      \"column\": \"bp\",\n      \"properties\": {\n        \"dtype\": \"number\",\n        \"std\": 0.04846871742960132,\n        \"min\": -0.11239880254408448,\n        \"max\": 0.13204361674121307,\n        \"num_unique_values\": 91,\n        \"samples\": [\n          -0.06419888888219483,\n          -0.03665608107540074\n        ],\n        \"semantic_type\": \"\",\n        \"description\": \"\"\n      }\n    },\n    {\n      \"column\": \"s1\",\n      \"properties\": {\n        \"dtype\": \"number\",\n        \"std\": 0.04778580939518049,\n        \"min\": -0.10889328275989867,\n        \"max\": 0.15391371315651542,\n        \"num_unique_values\": 132,\n        \"samples\": [\n          0.027326050202012293,\n          -0.04559945128264711\n        ],\n        \"semantic_type\": \"\",\n        \"description\": \"\"\n      }\n    },\n    {\n      \"column\": \"s2\",\n      \"properties\": {\n        \"dtype\": \"number\",\n        \"std\": 0.04763120417675653,\n        \"min\": -0.11561306597939897,\n        \"max\": 0.19878798965729408,\n        \"num_unique_values\": 259,\n        \"samples\": [\n          0.11642994420664642,\n          0.013090951816099879\n        ],\n        \"semantic_type\": \"\",\n        \"description\": \"\"\n      }\n    },\n    {\n      \"column\": \"s3\",\n      \"properties\": {\n        \"dtype\": \"number\",\n        \"std\": 0.04704366386588295,\n        \"min\": -0.10230705051741597,\n        \"max\": 0.18117906039727852,\n        \"num_unique_values\": 60,\n        \"samples\": [\n          -0.03971920784793797,\n          0.04495846164606168\n        ],\n        \"semantic_type\": \"\",\n        \"description\": \"\"\n      }\n    },\n    {\n      \"column\": \"s4\",\n      \"properties\": {\n        \"dtype\": \"number\",\n        \"std\": 0.04778996801015622,\n        \"min\": -0.0763945037500033,\n        \"max\": 0.18523444326019867,\n        \"num_unique_values\": 54,\n        \"samples\": [\n          -0.009972486173365287,\n          0.028404679537581124\n        ],\n        \"semantic_type\": \"\",\n        \"description\": \"\"\n      }\n    },\n    {\n      \"column\": \"s5\",\n      \"properties\": {\n        \"dtype\": \"number\",\n        \"std\": 0.04782825216674544,\n        \"min\": -0.12609712083330468,\n        \"max\": 0.13359728192191356,\n        \"num_unique_values\": 163,\n        \"samples\": [\n          -0.08237869071592514,\n          -0.05296264109357657\n        ],\n        \"semantic_type\": \"\",\n        \"description\": \"\"\n      }\n    },\n    {\n      \"column\": \"s6\",\n      \"properties\": {\n        \"dtype\": \"number\",\n        \"std\": 0.048380305745877476,\n        \"min\": -0.13776722569000302,\n        \"max\": 0.13561183068907107,\n        \"num_unique_values\": 56,\n        \"samples\": [\n          -0.0010776975004659671,\n          0.040343371647878594\n        ],\n        \"semantic_type\": \"\",\n        \"description\": \"\"\n      }\n    }\n  ]\n}"
            }
          },
          "metadata": {},
          "execution_count": 3
        }
      ]
    },
    {
      "cell_type": "markdown",
      "source": [
        "## 1. Decision Trees\n",
        "\n",
        "Decision trees are a type of supervised learning algorithm that resembles a flowchart-like structure for classification and regression tasks. They work by recursively splitting the data based on features (attributes) to create a tree model."
      ],
      "metadata": {
        "id": "UYmFrf-r98l4"
      }
    },
    {
      "cell_type": "code",
      "source": [
        "import graphviz\n",
        "from sklearn import tree\n",
        "from sklearn.tree import DecisionTreeClassifier\n",
        "\n",
        "# Initialize the model\n",
        "model = DecisionTreeClassifier()\n",
        "\n",
        "# Fit the model\n",
        "model.fit(X_iris_train, y_iris_train)\n",
        "acc_train = model.score(X_iris_train, y_iris_train)\n",
        "acc_test = model.score(X_iris_test, y_iris_test)\n",
        "print(\"Train accuracy on Iris dataset:\", acc_train)\n",
        "print(\"Test accuracy on Iris dataset:\", acc_test)\n"
      ],
      "metadata": {
        "colab": {
          "base_uri": "https://localhost:8080/"
        },
        "id": "zN1yuNnO_6Vz",
        "outputId": "c95ee596-ab6b-4278-d5e0-439f3c3061d5"
      },
      "execution_count": null,
      "outputs": [
        {
          "output_type": "stream",
          "name": "stdout",
          "text": [
            "Train accuracy on Iris dataset: 1.0\n",
            "Test accuracy on Iris dataset: 0.9777777777777777\n"
          ]
        }
      ]
    },
    {
      "cell_type": "code",
      "source": [
        "depth = model.tree_.max_depth\n",
        "print(f\"Maximum depth of the trained tree: {depth}\\n\")\n",
        "print(tree.export_text(model))"
      ],
      "metadata": {
        "colab": {
          "base_uri": "https://localhost:8080/"
        },
        "id": "dqn4T84ZAx1l",
        "outputId": "88b4f491-45f2-4c24-a57e-c3195db759b8"
      },
      "execution_count": null,
      "outputs": [
        {
          "output_type": "stream",
          "name": "stdout",
          "text": [
            "Maximum depth of the trained tree: 6\n",
            "\n",
            "|--- feature_3 <= 0.80\n",
            "|   |--- class: 0\n",
            "|--- feature_3 >  0.80\n",
            "|   |--- feature_2 <= 4.85\n",
            "|   |   |--- feature_3 <= 1.65\n",
            "|   |   |   |--- class: 1\n",
            "|   |   |--- feature_3 >  1.65\n",
            "|   |   |   |--- feature_1 <= 3.10\n",
            "|   |   |   |   |--- class: 2\n",
            "|   |   |   |--- feature_1 >  3.10\n",
            "|   |   |   |   |--- class: 1\n",
            "|   |--- feature_2 >  4.85\n",
            "|   |   |--- feature_3 <= 1.70\n",
            "|   |   |   |--- feature_2 <= 4.95\n",
            "|   |   |   |   |--- class: 1\n",
            "|   |   |   |--- feature_2 >  4.95\n",
            "|   |   |   |   |--- feature_3 <= 1.55\n",
            "|   |   |   |   |   |--- class: 2\n",
            "|   |   |   |   |--- feature_3 >  1.55\n",
            "|   |   |   |   |   |--- feature_2 <= 5.45\n",
            "|   |   |   |   |   |   |--- class: 1\n",
            "|   |   |   |   |   |--- feature_2 >  5.45\n",
            "|   |   |   |   |   |   |--- class: 2\n",
            "|   |   |--- feature_3 >  1.70\n",
            "|   |   |   |--- class: 2\n",
            "\n"
          ]
        }
      ]
    },
    {
      "cell_type": "markdown",
      "source": [
        "## 2. Feature Selection using Decision Trees\n",
        "\n",
        "Decision trees inherently provide feature importance scores, indicating which features contributed most to splitting decisions."
      ],
      "metadata": {
        "id": "bnXaGzA9Ac_F"
      }
    },
    {
      "cell_type": "code",
      "source": [
        "from sklearn.tree import DecisionTreeRegressor\n",
        "\n",
        "# Initialize the model\n",
        "model = DecisionTreeRegressor()\n",
        "\n",
        "# Fit the model\n",
        "model.fit(X_train, y_train)\n",
        "\n",
        "acc_test = model.score(X_test, y_test)\n",
        "print(\"Test accuracy on Diabetes dataset:\", acc_test)"
      ],
      "metadata": {
        "colab": {
          "base_uri": "https://localhost:8080/"
        },
        "id": "gGrnqXDX3vX-",
        "outputId": "ca108dd6-1f5a-4af9-9749-3e3d047eab1a"
      },
      "execution_count": null,
      "outputs": [
        {
          "output_type": "stream",
          "name": "stdout",
          "text": [
            "Test accuracy on Diabetes dataset: 0.08300860730875415\n"
          ]
        }
      ]
    },
    {
      "cell_type": "code",
      "source": [
        "# Get feature importances\n",
        "importances = model.feature_importances_\n",
        "\n",
        "importances_df = pd.DataFrame(importances, index=X_train.keys(), columns=[\"Importance\"])\n",
        "print(importances_df, end=\"\\n\\n\")"
      ],
      "metadata": {
        "colab": {
          "base_uri": "https://localhost:8080/"
        },
        "id": "Og8VemSQ-zGo",
        "outputId": "265ed6d9-badd-4ee5-96ae-673b40f6dd24"
      },
      "execution_count": null,
      "outputs": [
        {
          "output_type": "stream",
          "name": "stdout",
          "text": [
            "     Importance\n",
            "age    0.065283\n",
            "sex    0.007691\n",
            "bmi    0.411354\n",
            "bp     0.069490\n",
            "s1     0.080434\n",
            "s2     0.054645\n",
            "s3     0.058485\n",
            "s4     0.034104\n",
            "s5     0.150905\n",
            "s6     0.067609\n",
            "\n"
          ]
        }
      ]
    },
    {
      "cell_type": "code",
      "source": [
        "print(\"Sorted version\\n\")\n",
        "importances_df = importances_df.sort_values(by=\"Importance\", ascending=False)\n",
        "print(importances_df)"
      ],
      "metadata": {
        "colab": {
          "base_uri": "https://localhost:8080/"
        },
        "id": "HEFPJm2e3xir",
        "outputId": "eec6b282-b78d-422f-9759-5cde6b851d9c"
      },
      "execution_count": null,
      "outputs": [
        {
          "output_type": "stream",
          "name": "stdout",
          "text": [
            "Sorted version\n",
            "\n",
            "     Importance\n",
            "bmi    0.411354\n",
            "s5     0.150905\n",
            "s1     0.080434\n",
            "bp     0.069490\n",
            "s6     0.067609\n",
            "age    0.065283\n",
            "s3     0.058485\n",
            "s2     0.054645\n",
            "s4     0.034104\n",
            "sex    0.007691\n"
          ]
        }
      ]
    },
    {
      "cell_type": "markdown",
      "source": [
        "## 3. Feature Selection using SelectKBest\n",
        "#### 3.1 SelectKBest allows us to select the top k features based on a scoring function, like `chi2` for categorical data.\n",
        "\n",
        "Common score functions used:\n",
        "\n",
        "- Chi-Square Test (Classification):\n",
        "  - Equation: $X^2 = \\Sigma (0_i - E_i)^2 / E_i$\n",
        "  - $O_i$: Observed frequency in category $i$\n",
        "  - $E_i$: Expected frequency in category $i$ (assuming independence)\n",
        "  - Intuition: Measures the difference between observed and expected frequencies in categorical features, indicating a potential association with the target class.\n",
        "\n",
        "- Information Gain (Classification):\n",
        "  - Measures the reduction in uncertainty about the target variable after considering a feature.\n",
        "  - Higher information gain indicates a more informative feature.\n",
        "\n",
        "  Check out more scoring functions here: https://scikit-learn.org/stable/modules/generated/sklearn.feature_selection.SelectKBest.html"
      ],
      "metadata": {
        "id": "kwyUZaU4Ggea"
      }
    },
    {
      "cell_type": "code",
      "source": [
        "from sklearn.feature_selection import SelectKBest, chi2\n",
        "\n",
        "# Apply SelectKBest with chi2\n",
        "skb = SelectKBest(score_func=chi2, k=2)\n",
        "X_new_iris = skb.fit_transform(X_iris_train, y_iris_train)\n",
        "\n",
        "print(\"Shape of X before SelectKBest:\", X_iris_train.shape)\n",
        "print(\"Shape of X after SelectKBest:\", X_new_iris.shape)"
      ],
      "metadata": {
        "colab": {
          "base_uri": "https://localhost:8080/"
        },
        "id": "rCuXYgclGnsa",
        "outputId": "fb995eab-1ce4-4fc4-a139-cefd74981029"
      },
      "execution_count": null,
      "outputs": [
        {
          "output_type": "stream",
          "name": "stdout",
          "text": [
            "Shape of X before SelectKBest: (105, 4)\n",
            "Shape of X after SelectKBest: (105, 2)\n"
          ]
        }
      ]
    },
    {
      "cell_type": "code",
      "source": [
        "# Check which features were selected\n",
        "\n",
        "selected_features = skb.get_support()\n",
        "selected_features = X_iris.keys()[selected_features]\n",
        "print(f\"Selected features: \", selected_features)"
      ],
      "metadata": {
        "colab": {
          "base_uri": "https://localhost:8080/"
        },
        "id": "zAYdVezJGubq",
        "outputId": "72cdfc8c-c876-4ad5-8064-32d4a3e44606"
      },
      "execution_count": null,
      "outputs": [
        {
          "output_type": "stream",
          "name": "stdout",
          "text": [
            "Selected features:  Index(['petal length (cm)', 'petal width (cm)'], dtype='object')\n"
          ]
        }
      ]
    },
    {
      "cell_type": "code",
      "source": [
        "def run_tree(x_train,y_train, x_test, y_test, task=\"clf\"):\n",
        "  model = DecisionTreeClassifier(max_depth=4, random_state=14) if task==\"clf\" else DecisionTreeRegressor(max_depth=10, random_state=14)\n",
        "  model.fit(x_train,y_train)\n",
        "  return model.score(x_test,y_test)\n",
        "\n",
        "print(\"Accuracy on original Iris:\", run_tree(X_iris_train, y_iris_train, X_iris_test, y_iris_test, task=\"clf\"))\n",
        "print(\"Accuracy on reduced Iris:\", run_tree(X_new_iris, y_iris_train, X_iris_test[selected_features], y_iris_test, task=\"clf\"))\n"
      ],
      "metadata": {
        "colab": {
          "base_uri": "https://localhost:8080/"
        },
        "id": "u97MqPfLKKQK",
        "outputId": "10316112-f8bb-4efa-d198-37b939450843"
      },
      "execution_count": null,
      "outputs": [
        {
          "output_type": "stream",
          "name": "stdout",
          "text": [
            "Accuracy on original Iris: 0.9777777777777777\n",
            "Accuracy on reduced Iris: 0.9555555555555556\n"
          ]
        }
      ]
    },
    {
      "cell_type": "markdown",
      "source": [
        "#### 3.2 `SelectKBest` can also be used in regression scenarios, but we choose a scoring *function* suitable for regression, like `f_regression.`\n",
        "\n",
        "- F-Test (Regression):\n",
        "  - Compares the variance between groups (explained by the feature) to the variance within groups (unexplained variance).\n",
        "  - Higher F-statistic suggests the feature is more relevant for explaining the target variable."
      ],
      "metadata": {
        "id": "KcfhvFB6M658"
      }
    },
    {
      "cell_type": "code",
      "source": [
        "from sklearn.feature_selection import f_regression\n",
        "\n",
        "# Apply SelectKBest with f_regression\n",
        "skb = SelectKBest(score_func=f_regression, k=5)\n",
        "X_new = skb.fit_transform(X_train, y_train)\n",
        "\n",
        "print(\"Shape of X_train before SelectKBest:\", X_train.shape)\n",
        "print(\"Shape of X_train after SelectKBest:\", X_new.shape)\n",
        "\n",
        "selected_features = skb.get_support()\n",
        "selected_features = X_train.keys()[selected_features]\n",
        "print(f\"Selected features: \", selected_features, end=\"\\n\\n\")\n",
        "\n",
        "print(\"Accuracy on original data:\", run_tree(X_train, y_train, X_test, y_test, task=\"reg\"))\n",
        "print(\"Accuracy on reduced data:\", run_tree(X_new, y_train, X_test[selected_features], y_test, task=\"reg\"))"
      ],
      "metadata": {
        "colab": {
          "base_uri": "https://localhost:8080/"
        },
        "id": "HrAh8wu8Kk9X",
        "outputId": "1a849dc6-3c06-4ae6-83c2-fc4f502c8dba"
      },
      "execution_count": null,
      "outputs": [
        {
          "output_type": "stream",
          "name": "stdout",
          "text": [
            "Shape of X_train before SelectKBest: (353, 10)\n",
            "Shape of X_train after SelectKBest: (353, 5)\n",
            "Selected features:  Index(['bmi', 'bp', 's4', 's5', 's6'], dtype='object')\n",
            "\n",
            "Accuracy on original data: 0.27133851014103594\n",
            "Accuracy on reduced data: 0.23401005587819845\n"
          ]
        }
      ]
    },
    {
      "cell_type": "markdown",
      "source": [
        "## 4. Forward and Backward Feature Selection\n",
        "\n",
        "Forward and backward feature selection techniques are iterative and can be effectively implemented using `SequentialFeatureSelector` from `mlxtend`.\n",
        "\n",
        "- Forward selection starts with an empty feature set and iteratively adds the feature that improves the model performance the most.\n",
        "- Backward selection starts with all features and iteratively removes the feature that contributes the least to model performance.\n",
        "\n",
        "You need to look into different scoring functions to see what performs the best:\n",
        "\n",
        "https://scikit-learn.org/stable/modules/model_evaluation.html#scoring-parameter"
      ],
      "metadata": {
        "id": "AjaykRuRalPw"
      }
    },
    {
      "cell_type": "code",
      "source": [
        "# from mlxtend.feature_selection import SequentialFeatureSelector as SFS\n",
        "from sklearn.feature_selection import SequentialFeatureSelector as SFS\n",
        "from sklearn.linear_model import LinearRegression\n",
        "\n",
        "# Define a linear regression model\n",
        "lr = LinearRegression()\n",
        "\n",
        "# Forward Selection\n",
        "sfs_forward = SFS(lr,\n",
        "                  n_features_to_select=5,\n",
        "                  direction='forward',\n",
        "                  scoring='neg_mean_absolute_percentage_error',\n",
        "                  cv=5)\n",
        "\n",
        "sfs_forward = sfs_forward.fit(X_train, y_train)\n",
        "selected_features = X_train.keys()[sfs_forward.get_support()]\n",
        "print('Forward Selection Features:', selected_features)\n",
        "print(\"Accuracy on original data:\", run_tree(X_train, y_train, X_test, y_test, task=\"reg\"))\n",
        "print(\"Accuracy on reduced data:\", run_tree(X_new, y_train, X_test[selected_features], y_test, task=\"reg\"))"
      ],
      "metadata": {
        "colab": {
          "base_uri": "https://localhost:8080/"
        },
        "id": "QULgLds3OtNS",
        "outputId": "bbaddd07-21cf-460f-be64-e13264757801"
      },
      "execution_count": null,
      "outputs": [
        {
          "output_type": "stream",
          "name": "stdout",
          "text": [
            "Forward Selection Features: Index(['sex', 'bmi', 'bp', 's1', 's5'], dtype='object')\n",
            "Accuracy on original data: 0.27133851014103594\n",
            "Accuracy on reduced data: 0.1822946955935184\n"
          ]
        }
      ]
    },
    {
      "cell_type": "code",
      "source": [
        "# Backward Selection\n",
        "sfs_backward = SFS(lr,\n",
        "                   n_features_to_select=5,\n",
        "                   direction='backward',\n",
        "                   scoring='neg_mean_squared_error',\n",
        "                   cv=5)\n",
        "\n",
        "sfs_backward = sfs_backward.fit(X_train, y_train)\n",
        "selected_features = X_train.keys()[sfs_backward.get_support()]\n",
        "print('Forward Selection Features:', selected_features)\n",
        "print(\"Accuracy on original data:\", run_tree(X_train, y_train, X_test, y_test, task=\"reg\"))\n",
        "print(\"Accuracy on reduced data:\", run_tree(X_new, y_train, X_test[selected_features], y_test, task=\"reg\"))"
      ],
      "metadata": {
        "colab": {
          "base_uri": "https://localhost:8080/"
        },
        "id": "oHZZLrY6cna2",
        "outputId": "4e7ebb2c-2bd8-4bab-cfd6-bd9eeb7c326c"
      },
      "execution_count": null,
      "outputs": [
        {
          "output_type": "stream",
          "name": "stdout",
          "text": [
            "Forward Selection Features: Index(['sex', 'bmi', 'bp', 's1', 's5'], dtype='object')\n",
            "Accuracy on original data: 0.27133851014103594\n",
            "Accuracy on reduced data: 0.1822946955935184\n"
          ]
        }
      ]
    },
    {
      "cell_type": "markdown",
      "source": [
        "## 4. Feature Transformation with PCA\n",
        "\n",
        "PCA is a technique used to reduce dimensionality by projecting data onto a lower-dimensional space while retaining maximum variance. This can be particularly useful when dealing with a high number of features."
      ],
      "metadata": {
        "id": "3EDO1g7_gL14"
      }
    },
    {
      "cell_type": "code",
      "source": [
        "from sklearn.decomposition import PCA\n",
        "import matplotlib.pyplot as plt\n",
        "\n",
        "# Initialize PCA\n",
        "pca = PCA(n_components=2)\n",
        "\n",
        "# Fit and transform data\n",
        "X_pca = pca.fit_transform(X_iris_train)\n",
        "\n",
        "class_labels = iris.target_names\n",
        "colors = ['blue', 'green', 'red']\n",
        "\n",
        "# Create the scatter plot\n",
        "plt.figure(figsize=(8, 6))\n",
        "for i, label in enumerate(class_labels):\n",
        "    plt.scatter(X_pca[y_iris_train == i, 0], X_pca[y_iris_train == i, 1], label=label, c=colors[i], edgecolor='k', s=50)\n",
        "\n",
        "plt.title(\"PCA - Iris Dataset\")\n",
        "plt.xlabel(\"Principal Component 1\")\n",
        "plt.ylabel(\"Principal Component 2\")\n",
        "plt.legend()\n",
        "plt.show()"
      ],
      "metadata": {
        "colab": {
          "base_uri": "https://localhost:8080/",
          "height": 564
        },
        "id": "_LNDQpazcw9C",
        "outputId": "9284f049-92b2-43d3-ca3d-23310bebe515"
      },
      "execution_count": null,
      "outputs": [
        {
          "output_type": "display_data",
          "data": {
            "text/plain": [
              "<Figure size 800x600 with 1 Axes>"
            ],
            "image/png": "[encoded data removed]"
          },
          "metadata": {}
        }
      ]
    },
    {
      "cell_type": "code",
      "source": [
        "X_pca_train = pca.fit_transform(X_iris_train)\n",
        "X_pca_test = pca.fit_transform(X_iris_test)\n",
        "\n",
        "print(\"Accuracy on original Iris:\", run_tree(X_iris_train, y_iris_train, X_iris_test, y_iris_test, task=\"clf\"))\n",
        "print(\"Accuracy on Iris after PCA:\", run_tree(X_pca_train, y_iris_train, X_pca_test, y_iris_test, task=\"clf\"))\n"
      ],
      "metadata": {
        "colab": {
          "base_uri": "https://localhost:8080/"
        },
        "id": "9gDS3vvdgpn4",
        "outputId": "16a41a5a-16aa-40e5-8168-567ab42f5423"
      },
      "execution_count": null,
      "outputs": [
        {
          "output_type": "stream",
          "name": "stdout",
          "text": [
            "Accuracy on original Iris: 0.9777777777777777\n",
            "Accuracy on Iris after PCA: 0.8444444444444444\n"
          ]
        }
      ]
    }
  ]
}